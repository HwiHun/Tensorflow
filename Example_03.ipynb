{
 "cells": [
  {
   "cell_type": "code",
   "execution_count": 33,
   "metadata": {},
   "outputs": [],
   "source": [
    "from bs4 import BeautifulSoup \n",
    "from urllib.request import urlopen"
   ]
  },
  {
   "cell_type": "code",
   "execution_count": 34,
   "metadata": {},
   "outputs": [],
   "source": [
    "url_base = 'https://movie.naver.com'\n",
    "url_sub = '/movie/bi/mi/point.nhn?code=163788'\n",
    "url = url_base + url_sub\n",
    "\n",
    "html = urlopen(url)\n",
    "soup = BeautifulSoup(html, \"html.parser\")"
   ]
  },
  {
   "cell_type": "code",
   "execution_count": 46,
   "metadata": {},
   "outputs": [],
   "source": [
    "score_result = soup.find_all(\"div\",\"star_score\")"
   ]
  },
  {
   "cell_type": "code",
   "execution_count": 41,
   "metadata": {},
   "outputs": [
    {
     "data": {
      "text/plain": [
       "21"
      ]
     },
     "execution_count": 41,
     "metadata": {},
     "output_type": "execute_result"
    }
   ],
   "source": [
    "len(score_result)"
   ]
  },
  {
   "cell_type": "code",
   "execution_count": 52,
   "metadata": {},
   "outputs": [
    {
     "data": {
      "text/plain": [
       "[<div class=\"score_reple\">\n",
       " <p>북치고 장구치는 지니, 제목을 지니로 바꿔야</p>\n",
       " <dl>\n",
       " <dt>씨네21</dt>\n",
       " <dd>\n",
       " \t\t\t\t\t\t\t\t\t\t\t\t\t\t\t\t| 김성훈\n",
       " \t\t\t\t\t\t\t\t\t\t\t\t\t\t\t</dd>\n",
       " </dl>\n",
       " </div>, <div class=\"score_reple\">\n",
       " <p>＜A Whole New World＞가 나올 때까지 기다리세요</p>\n",
       " <dl>\n",
       " <dt>씨네21</dt>\n",
       " <dd>\n",
       " \t\t\t\t\t\t\t\t\t\t\t\t\t\t\t\t| 김송희\n",
       " \t\t\t\t\t\t\t\t\t\t\t\t\t\t\t</dd>\n",
       " </dl>\n",
       " </div>, <div class=\"score_reple\">\n",
       " <p>화려하게 얼렁뚱땅</p>\n",
       " <dl>\n",
       " <dt>씨네21</dt>\n",
       " <dd>\n",
       " \t\t\t\t\t\t\t\t\t\t\t\t\t\t\t\t| 박평식\n",
       " \t\t\t\t\t\t\t\t\t\t\t\t\t\t\t</dd>\n",
       " </dl>\n",
       " </div>, <div class=\"score_reple\">\n",
       " <p>어깨를 들썩이게 하는 뮤지컬</p>\n",
       " <dl>\n",
       " <dt>씨네21</dt>\n",
       " <dd>\n",
       " \t\t\t\t\t\t\t\t\t\t\t\t\t\t\t\t| 이용철\n",
       " \t\t\t\t\t\t\t\t\t\t\t\t\t\t\t</dd>\n",
       " </dl>\n",
       " </div>, <div class=\"score_reple\">\n",
       " <p>원작 대비 선방한 건 윌 스미스와 자스민 캐릭터뿐</p>\n",
       " <dl>\n",
       " <dt>씨네21</dt>\n",
       " <dd>\n",
       " \t\t\t\t\t\t\t\t\t\t\t\t\t\t\t\t| 임수연\n",
       " \t\t\t\t\t\t\t\t\t\t\t\t\t\t\t</dd>\n",
       " </dl>\n",
       " </div>]"
      ]
     },
     "execution_count": 52,
     "metadata": {},
     "output_type": "execute_result"
    }
   ],
   "source": [
    "soup.find_all('div','score_reple')"
   ]
  },
  {
   "cell_type": "code",
   "execution_count": null,
   "metadata": {},
   "outputs": [],
   "source": []
  }
 ],
 "metadata": {
  "kernelspec": {
   "display_name": "Python 3",
   "language": "python",
   "name": "python3"
  },
  "language_info": {
   "codemirror_mode": {
    "name": "ipython",
    "version": 3
   },
   "file_extension": ".py",
   "mimetype": "text/x-python",
   "name": "python",
   "nbconvert_exporter": "python",
   "pygments_lexer": "ipython3",
   "version": "3.7.3"
  }
 },
 "nbformat": 4,
 "nbformat_minor": 2
}
